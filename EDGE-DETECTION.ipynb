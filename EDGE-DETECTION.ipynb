{
 "cells": [
  {
   "cell_type": "code",
   "execution_count": 2,
   "id": "4123379d",
   "metadata": {},
   "outputs": [],
   "source": [
    "import cv2\n",
    "# Read the image\n",
    "image = cv2.imread('dog.jpg')\n",
    "gray_image = cv2.cvtColor(image, cv2.COLOR_BGR2GRAY)"
   ]
  },
  {
   "cell_type": "code",
   "execution_count": 3,
   "id": "331f302b",
   "metadata": {},
   "outputs": [],
   "source": [
    "# Apply Gaussian blur\n",
    "img_blurred = cv2.GaussianBlur(gray_image, (3, 3), 0)\n",
    "\n",
    "# Sobel edge detection\n",
    "sobelx = cv2.Sobel(img_blurred, cv2.CV_64F, 1, 0, ksize=5)\n",
    "sobely = cv2.Sobel(img_blurred, cv2.CV_64F, 0, 1, ksize=5)\n",
    "sobelxy = cv2.Sobel(img_blurred, cv2.CV_64F, 1, 1, ksize=5)"
   ]
  },
  {
   "cell_type": "code",
   "execution_count": 4,
   "id": "f7ba02dc",
   "metadata": {},
   "outputs": [],
   "source": [
    "# Laplacian edge detection\n",
    "laplacian = cv2.Laplacian(img_blurred, cv2.CV_64F)"
   ]
  },
  {
   "cell_type": "code",
   "execution_count": 5,
   "id": "4ee8c1bb",
   "metadata": {},
   "outputs": [],
   "source": [
    "# Canny edge detection\n",
    "canny_edges = cv2.Canny(img_blurred, 120, 150)"
   ]
  },
  {
   "cell_type": "code",
   "execution_count": null,
   "id": "e87d794a",
   "metadata": {},
   "outputs": [],
   "source": [
    "# Display images\n",
    "cv2.imshow('Original', gray_image)\n",
    "cv2.imshow('Sobel X', sobelx)\n",
    "cv2.imshow('Sobel Y', sobely)\n",
    "cv2.imshow('Sobel XY', sobelxy)\n",
    "cv2.imshow('Laplacian', laplacian)\n",
    "cv2.imshow('Canny Edges', canny_edges)\n",
    "\n",
    "cv2.waitKey(0)\n",
    "cv2.destroyAllWindows()"
   ]
  },
  {
   "cell_type": "code",
   "execution_count": null,
   "id": "7e602abb",
   "metadata": {},
   "outputs": [],
   "source": []
  }
 ],
 "metadata": {
  "kernelspec": {
   "display_name": "Python 3 (ipykernel)",
   "language": "python",
   "name": "python3"
  },
  "language_info": {
   "codemirror_mode": {
    "name": "ipython",
    "version": 3
   },
   "file_extension": ".py",
   "mimetype": "text/x-python",
   "name": "python",
   "nbconvert_exporter": "python",
   "pygments_lexer": "ipython3",
   "version": "3.11.3"
  }
 },
 "nbformat": 4,
 "nbformat_minor": 5
}
